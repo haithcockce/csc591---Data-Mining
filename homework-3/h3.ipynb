{
 "cells": [
  {
   "cell_type": "markdown",
   "metadata": {},
   "source": [
    "**Put any package imports you need in the below space**"
   ]
  },
  {
   "cell_type": "code",
   "execution_count": 179,
   "metadata": {
    "collapsed": false
   },
   "outputs": [],
   "source": [
    "%matplotlib inline\n",
    "import networkx as nx\n",
    "import numpy as np\n",
    "\n",
    "import matplotlib.pyplot as plt"
   ]
  },
  {
   "cell_type": "markdown",
   "metadata": {},
   "source": [
    "### Exercise 1\n",
    "Generating the adjacency matrix A for graphs of particular type. Write a script that generates the adjacency matrix A for each of the following graphs and prints this matrix onto the screen:\n",
    "1. K5: 5-clique, or a fully connected simple, undirected graph of 5 nodes\n",
    "2. K5.3: two disconnected components, C1 and C2, where C1 is a 5-clique K5 and C2 is a 3-clique K3\n",
    "3. K5.3e: Almost the same as K53 but there is a single edge connecting the two components\n",
    "4. B2.3: Complete bi-partite graph with n1=2 nodes in the first part and n2=3 nodes in the second part\n",
    "5. S5: A 5-vertex star (one central \"hub\" node that connects to all the other \"spoke\" nodes)\n",
    "6. P5: A simple path of 5 vertices\n"
   ]
  },
  {
   "cell_type": "code",
   "execution_count": 180,
   "metadata": {
    "collapsed": false
   },
   "outputs": [
    {
     "name": "stdout",
     "output_type": "stream",
     "text": [
      "[[0 1 1 1 1]\n",
      " [1 0 1 1 1]\n",
      " [1 1 0 1 1]\n",
      " [1 1 1 0 1]\n",
      " [1 1 1 1 0]]\n",
      "\n",
      "[[0 1 1 1 1 0 0 0]\n",
      " [1 0 1 1 1 0 0 0]\n",
      " [1 1 0 1 1 0 0 0]\n",
      " [1 1 1 0 1 0 0 0]\n",
      " [1 1 1 1 0 0 0 0]\n",
      " [0 0 0 0 0 0 1 1]\n",
      " [0 0 0 0 0 1 0 1]\n",
      " [0 0 0 0 0 1 1 0]]\n",
      "\n",
      "[[0 1 1 1 1 0 0 0]\n",
      " [1 0 1 1 1 0 0 0]\n",
      " [1 1 0 1 1 0 0 0]\n",
      " [1 1 1 0 1 0 0 0]\n",
      " [1 1 1 1 0 1 0 0]\n",
      " [0 0 0 0 1 0 1 1]\n",
      " [0 0 0 0 0 1 0 1]\n",
      " [0 0 0 0 0 1 1 0]]\n",
      "\n",
      "[[0 0 1 1 1]\n",
      " [0 0 1 1 1]\n",
      " [1 1 0 0 0]\n",
      " [1 1 0 0 0]\n",
      " [1 1 0 0 0]]\n",
      "\n",
      "[[0 1 1 1 1 1]\n",
      " [1 0 0 0 0 0]\n",
      " [1 0 0 0 0 0]\n",
      " [1 0 0 0 0 0]\n",
      " [1 0 0 0 0 0]\n",
      " [1 0 0 0 0 0]]\n",
      "\n",
      "[[0 1 0 0 0]\n",
      " [1 0 1 0 0]\n",
      " [0 1 0 1 0]\n",
      " [0 0 1 0 1]\n",
      " [0 0 0 1 0]]\n",
      "\n"
     ]
    }
   ],
   "source": [
    "# K5: 5-clique, or a fully connected simple, undirected graph of 5 nodes\n",
    "g1 = nx.complete_graph(5)\n",
    "\n",
    "# K5.3: two disconnected components, C1 and C2, where C1 is a 5-clique K5 and C2 is a 3-clique K3\n",
    "g2 = nx.disjoint_union(nx.complete_graph(5), nx.complete_graph(3))\n",
    "\n",
    "# 3. K5.3e: Almost the same as K53 but there is a single edge connecting the two components\n",
    "g3 = nx.disjoint_union(nx.complete_graph(5), nx.complete_graph(3))\n",
    "g3.add_edge(4, 5)\n",
    "\n",
    "# 4. B2.3: Complete bi-partite graph with n1=2 nodes in the first part and n2=3 nodes in the second part\n",
    "g4 = nx.complete_bipartite_graph(2, 3)\n",
    "\n",
    "# 5. S5: A 5-vertex star (one central \"hub\" node that connects to all the other \"spoke\" nodes)\n",
    "g5 = nx.star_graph(5)\n",
    "\n",
    "# 6. P5: A simple path of 5 vertices\n",
    "g6 = nx.path_graph(5)\n",
    "\n",
    "graphs = [g1, g2, g3, g4, g5, g6]\n",
    "for G in graphs:\n",
    "    print nx.adj_matrix(G).toarray(); print"
   ]
  },
  {
   "cell_type": "markdown",
   "metadata": {},
   "source": [
    "### Exercise 2\n",
    "Generating the degree matrix D for a given adjacency matrix A. Write a script that generates a degree matrix for each of the adjacency matrices in Exercise 1. Note that the degree matrix is a diagonal matrix where all the positions except for the diagonal are zero's. The diagonal elements correspond to the degrees of the corresponding nodes, namely Dii = degree(v_i)."
   ]
  },
  {
   "cell_type": "code",
   "execution_count": 181,
   "metadata": {
    "collapsed": false
   },
   "outputs": [
    {
     "name": "stdout",
     "output_type": "stream",
     "text": [
      "[[4 0 0 0 0]\n",
      " [0 4 0 0 0]\n",
      " [0 0 4 0 0]\n",
      " [0 0 0 4 0]\n",
      " [0 0 0 0 4]]\n",
      "\n",
      "[[4 0 0 0 0 0 0 0]\n",
      " [0 4 0 0 0 0 0 0]\n",
      " [0 0 4 0 0 0 0 0]\n",
      " [0 0 0 4 0 0 0 0]\n",
      " [0 0 0 0 4 0 0 0]\n",
      " [0 0 0 0 0 2 0 0]\n",
      " [0 0 0 0 0 0 2 0]\n",
      " [0 0 0 0 0 0 0 2]]\n",
      "\n",
      "[[4 0 0 0 0 0 0 0]\n",
      " [0 4 0 0 0 0 0 0]\n",
      " [0 0 4 0 0 0 0 0]\n",
      " [0 0 0 4 0 0 0 0]\n",
      " [0 0 0 0 5 0 0 0]\n",
      " [0 0 0 0 0 3 0 0]\n",
      " [0 0 0 0 0 0 2 0]\n",
      " [0 0 0 0 0 0 0 2]]\n",
      "\n",
      "[[3 0 0 0 0]\n",
      " [0 3 0 0 0]\n",
      " [0 0 2 0 0]\n",
      " [0 0 0 2 0]\n",
      " [0 0 0 0 2]]\n",
      "\n",
      "[[5 0 0 0 0 0]\n",
      " [0 1 0 0 0 0]\n",
      " [0 0 1 0 0 0]\n",
      " [0 0 0 1 0 0]\n",
      " [0 0 0 0 1 0]\n",
      " [0 0 0 0 0 1]]\n",
      "\n",
      "[[1 0 0 0 0]\n",
      " [0 2 0 0 0]\n",
      " [0 0 2 0 0]\n",
      " [0 0 0 2 0]\n",
      " [0 0 0 0 1]]\n",
      "\n"
     ]
    }
   ],
   "source": [
    "def degree_matrix(G):\n",
    "    return np.diag(nx.degree(G).values())\n",
    "\n",
    "for G in graphs:\n",
    "    print degree_matrix(G); print"
   ]
  },
  {
   "cell_type": "markdown",
   "metadata": {},
   "source": [
    "### Exercise 3\n",
    "Generating the graph Laplacian matrix L for a given adjacency matrix A and its degree matrix D. Write a script that generates the graph Laplacian matrix L = D - A for each of the adjacency matrices in Exercise 1."
   ]
  },
  {
   "cell_type": "code",
   "execution_count": 182,
   "metadata": {
    "collapsed": false
   },
   "outputs": [
    {
     "name": "stdout",
     "output_type": "stream",
     "text": [
      "[[ 4 -1 -1 -1 -1]\n",
      " [-1  4 -1 -1 -1]\n",
      " [-1 -1  4 -1 -1]\n",
      " [-1 -1 -1  4 -1]\n",
      " [-1 -1 -1 -1  4]]\n",
      "\n",
      "[[ 4 -1 -1 -1 -1  0  0  0]\n",
      " [-1  4 -1 -1 -1  0  0  0]\n",
      " [-1 -1  4 -1 -1  0  0  0]\n",
      " [-1 -1 -1  4 -1  0  0  0]\n",
      " [-1 -1 -1 -1  4  0  0  0]\n",
      " [ 0  0  0  0  0  2 -1 -1]\n",
      " [ 0  0  0  0  0 -1  2 -1]\n",
      " [ 0  0  0  0  0 -1 -1  2]]\n",
      "\n",
      "[[ 4 -1 -1 -1 -1  0  0  0]\n",
      " [-1  4 -1 -1 -1  0  0  0]\n",
      " [-1 -1  4 -1 -1  0  0  0]\n",
      " [-1 -1 -1  4 -1  0  0  0]\n",
      " [-1 -1 -1 -1  5 -1  0  0]\n",
      " [ 0  0  0  0 -1  3 -1 -1]\n",
      " [ 0  0  0  0  0 -1  2 -1]\n",
      " [ 0  0  0  0  0 -1 -1  2]]\n",
      "\n",
      "[[ 3  0 -1 -1 -1]\n",
      " [ 0  3 -1 -1 -1]\n",
      " [-1 -1  2  0  0]\n",
      " [-1 -1  0  2  0]\n",
      " [-1 -1  0  0  2]]\n",
      "\n",
      "[[ 5 -1 -1 -1 -1 -1]\n",
      " [-1  1  0  0  0  0]\n",
      " [-1  0  1  0  0  0]\n",
      " [-1  0  0  1  0  0]\n",
      " [-1  0  0  0  1  0]\n",
      " [-1  0  0  0  0  1]]\n",
      "\n",
      "[[ 1 -1  0  0  0]\n",
      " [-1  2 -1  0  0]\n",
      " [ 0 -1  2 -1  0]\n",
      " [ 0  0 -1  2 -1]\n",
      " [ 0  0  0 -1  1]]\n",
      "\n"
     ]
    }
   ],
   "source": [
    "def laplacian_matrix(G):\n",
    "    return nx.laplacian_matrix(G)\n",
    "\n",
    "for G in graphs:\n",
    "    print laplacian_matrix(G).toarray(); print"
   ]
  },
  {
   "cell_type": "markdown",
   "metadata": {},
   "source": [
    "Answer the following questions:\n",
    "1. Is L a sparse matrix?\n",
    "2. In what positions does L have non-zero elements?\n",
    "3. What are the values of the non-diagonal and non-zero elements?\n",
    "4. What does L contain along its diagonal?\n",
    "\n"
   ]
  },
  {
   "cell_type": "markdown",
   "metadata": {},
   "source": [
    "**1. Is L a sparse matrix?**\n",
    "\n",
    "This depends on the topology of G.\n",
    "\n",
    "By definition, $L = D - A$ for graph $G$ where $G$ has no self loops implies the elements of $L$ are:\n",
    "\n",
    "$$\n",
    "L_{i,j} =\n",
    "\\left\\{\n",
    "\t\\begin{array}{ll}\n",
    "\t\tdegree(v_i)  & \\mbox{if } i = j \\\\\n",
    "\t\t-1        & \\mbox{if } i \\neq j \\mbox{ and } is\\_adjacent(v_i, v_j) \\\\\n",
    "        0 & \\mbox{otherwise}\n",
    "\t\\end{array}\n",
    "\\right.\n",
    "$$\n",
    "\n",
    "In order for $L$ to be a sparce matrix, the graph it comes from, $G$ must have sparse and/or extremely small communities.\n",
    "\n",
    "The above comes from the definition of a Lapacian matrix wherein an edge between nodes $v_i$ and $v_j$ will introduce $-1$ at $L_{i,j}$, so as communities grow in population and desnity (IE as edges are added to previously disconnected neighbors), more entries in $L$ are changed from $0$ to $-1$, reducing sparsity of $L$.\n",
    "\n",
    "A good example would be a minimal spanning tree. Above, the graph for the simple path of 5 nodes and the \"star\" graph are both technically a minimal spanning tree. Their respective Lapacian matrices are fairly sparse as the minimal amount of edges exist to make the graphs connected.\n",
    "\n",
    "**2. In what positions does L have non-zero elements?**\n",
    "\n",
    "For the mathematical definition, please see the answer to question 1. \n",
    "\n",
    "For an intuitive description, $L_{i,j}; i \\ne j$ (or any non-diagonal entry in the Lapacian matrix) describes if an edge exists between $v_i$ and $v_j$; $v \\in V$ where $L_{i,j} = 0$ when a path does not exist between nodes $v_i$ and $v_j$ and $L_{i,j} = -1$ when a path exists between the two. For $L_{i,j}; i = j$ or more simply $L_{i,i}$ (or for any diagonal entry in the Lapacian matrix) describes the degree of $v_i$.\n",
    "\n",
    "**3. What are the values of the non-diagonal and non-zero elements?**\n",
    "\n",
    "$-1$ for an undirected graph. As edges are added between the same nodes $v_i$ and $v_j$, this number will change to $L_{i,j} \\lt -1; i \\ne j$\n",
    "\n",
    "**4. What does L contain along its diagonal?**\n",
    "\n",
    "$L_{i,j} = degree(v_i) \\; \\mbox{if } i = j$\n",
    "\n"
   ]
  },
  {
   "cell_type": "markdown",
   "metadata": {},
   "source": [
    "### Exercise 4\n",
    "Generating the graph spectrum, or the multiset of the eigenvalues of the graph adjacency matrix A. Write a script that calculates the eigenvalues of the graph adjacency matrix for each of the matrices in Exercise 1. Plot the eigenvalues in the increasing order of their values"
   ]
  },
  {
   "cell_type": "code",
   "execution_count": 183,
   "metadata": {
    "collapsed": false
   },
   "outputs": [
    {
     "data": {
      "image/png": "[encoded data removed]",
      "text/plain": [
       "<matplotlib.figure.Figure at 0x7fd600c51950>"
      ]
     },
     "metadata": {},
     "output_type": "display_data"
    },
    {
     "name": "stdout",
     "output_type": "stream",
     "text": [
      "[(-1+0j), (-1+0j), (-1+0j), (-0.99999999999999933+0j), (4+0j)]\n"
     ]
    },
    {
     "data": {
      "image/png": "[encoded data removed]",
      "text/plain": [
       "<matplotlib.figure.Figure at 0x7fd601508250>"
      ]
     },
     "metadata": {},
     "output_type": "display_data"
    },
    {
     "name": "stdout",
     "output_type": "stream",
     "text": [
      "[(-1.0000000000000002+0j), (-1+0j), (-1+0j), (-1+0j), (-0.99999999999999978+0j), (-0.99999999999999933+0j), (1.9999999999999996+0j), (4+0j)]\n"
     ]
    },
    {
     "data": {
      "image/png": "[encoded data removed]",
      "text/plain": [
       "<matplotlib.figure.Figure at 0x7fd600e4ce10>"
      ]
     },
     "metadata": {},
     "output_type": "display_data"
    },
    {
     "name": "stdout",
     "output_type": "stream",
     "text": [
      "[(-1.7798711444464552+0j), (-1.0000000000000007+0j), (-1.0000000000000004+0j), (-0.99999999999999989+0j), (-0.99999999999999922+0j), (-0.33658584238146594+0j), (2.0549225470503445+0j), (4.0615344397775814+0j)]\n"
     ]
    },
    {
     "data": {
      "image/png": "[encoded data removed]",
      "text/plain": [
       "<matplotlib.figure.Figure at 0x7fd6010daad0>"
      ]
     },
     "metadata": {},
     "output_type": "display_data"
    },
    {
     "name": "stdout",
     "output_type": "stream",
     "text": [
      "[(-2.4494897427831801+0j), 0j, 0j, (2.089257586379567e-16+0j), (2.4494897427831792+0j)]\n"
     ]
    },
    {
     "data": {
      "image/png": "[encoded data removed]",
      "text/plain": [
       "<matplotlib.figure.Figure at 0x7fd600cf9d90>"
      ]
     },
     "metadata": {},
     "output_type": "display_data"
    },
    {
     "name": "stdout",
     "output_type": "stream",
     "text": [
      "[(-2.2360679774997902+0j), 0j, 0j, 0j, 0j, (2.2360679774997894+0j)]\n"
     ]
    },
    {
     "data": {
      "image/png": "[encoded data removed]",
      "text/plain": [
       "<matplotlib.figure.Figure at 0x7fd601153110>"
      ]
     },
     "metadata": {},
     "output_type": "display_data"
    },
    {
     "name": "stdout",
     "output_type": "stream",
     "text": [
      "[(-1.7320508075688763+0j), (-0.99999999999999922+0j), (-3.2982420948648636e-17+0j), (1+0j), (1.7320508075688805+0j)]\n"
     ]
    }
   ],
   "source": [
    "def eigenvalues(G):\n",
    "    return nx.adjacency_spectrum(G)\n",
    "\n",
    "def plot_eign(G):\n",
    "    plt.plot(sorted(eigenvalues(G)))\n",
    "    plt.ylabel('Eigenvalues')\n",
    "    plt.show()\n",
    "\n",
    "for G in [g1, g2, g3, g4, g5, g6]:\n",
    "    plot_eign(G)\n",
    "    print sorted(eigenvalues(G))\n"
   ]
  },
  {
   "cell_type": "markdown",
   "metadata": {},
   "source": [
    "Answer the following questions:\n",
    "1. What can you say about the eigenvalues of the complete graph (K5): the number of unique eigenvalues, the largest and the smallest eigenvalues, the multiplicity (how many times the same eigenvalue appears) of each eigenvalue?\n",
    "2. What is the graph spectrum of the bi-partite graph, B2.3? If n1 = n and n2 = m (a general complete bi-partite graph), then what can you say about its graph spectrum? [Hint: check sqrt(n * m)] If \\lambda is the eigenvalue of the bi-partite graph, will minus \\lambda be also the eigenvalue?\n",
    "3. What is the largest eigenvalue of the star graph S5? If S5 were generalized to an N-vertex star, what could you say about the value of its largest eigenvalue?\n",
    "4. What is the largest eigenvalue of the path graph P5? As the length of the path increases, what can you say about the changes in the largest eigenvalue?\n",
    "5. How does the largest eigenvalue of the path P5 (or its more generalization to an arbitrary length) compare with the largest eigenvalues of the star graph or the complete graph? If you are asked to sort the largest eigenvalue of the path, the star, and the clique) in the increasing order, what kind of relationship would you assign (E.g., $\\lambda_{path} \\lt or \\gt \\lambda_{star}$)?\n"
   ]
  },
  {
   "cell_type": "markdown",
   "metadata": {},
   "source": [
    "**1. What can you say about the eigenvalues of the complete graph (K5): the number of unique eigenvalues, the largest and the smallest eigenvalues, the multiplicity (how many times the same eigenvalue appears) of each eigenvalue?**\n",
    "\n",
    "$K_{5}$ has $5$ eigenvalues with $\\lambda_{1} = 4$ with multiplicity of $1$ while $\\forall_{i}, i=[2, n], \\lambda_{i} = -1$ with multiplicity of $4$. This fits the expected form of eigenvalues of an $n$-clique complete graph where $\\lambda_{1} = n-1, \\lambda_{2} = \\lambda_{3} = \\cdots = \\lambda_{n} = -1$ implying $K_{5}$ is in fact a $5$-clique complete graph.\n",
    "\n",
    "**2. What is the graph spectrum of the bi-partite graph, B2.3? If n1 = n and n2 = m (a general complete bi-partite graph), then what can you say about its graph spectrum? [Hint: check $\\sqrt{nm}$] If $\\lambda$ is the eigenvalue of the bi-partite graph, will $-\\lambda$ be also the eigenvalue?**\n",
    "\n",
    "$B_{2,3}$ has a spectrum of approximately $\\{-2.45, 0, 0, 0, 2.45\\}$. $\\lambda_{1} = \\sqrt{mn} \\approx 2.45$ while $\\lambda_{m+n} = -\\sqrt{mn} \\approx -2.45$ and $\\lambda_{i} = 0$ otherwise. Since $B_{m,n}$ is a bipartite graph, the eigenvalues for $B_{m,n}$ fit the form of general bipartite graphs wherein \n",
    "\n",
    "$$\n",
    "\\begin{align}\n",
    "    \\lambda_{1} = & \\sqrt{mn} \\\\\n",
    "    \\lambda_{m+n} = & -\\sqrt{mn} \\\\\n",
    "    \\lambda_{i} = & \\; 0, \\forall i \\in [2, m+n-1] \n",
    "\\end{align}\n",
    "$$\n",
    "\n",
    "Meaning, yes, $\\lambda$ and $-\\lambda$ are both eigenvalues of $B_{2,3}$.\n",
    "\n",
    "**3. What is the largest eigenvalue of the star graph S5? If S5 were generalized to an N-vertex star, what could you say about the value of its largest eigenvalue?**\n",
    "\n",
    "The largest eigenvalue for star graph $S5$ is approximately $2.24$, equivalent to $\\sqrt{5}$. This equivalency matches the expected value of $\\lambda_{1}$ for a star matrix where $\\lambda_{1} = \\sqrt{n-1}$ where $n = 6$ in $S_{5}$'s case.\n",
    "\n",
    "Interestingly enough, for a complete bipartite graph, $B_{m,n}$ when either $m = 1$ or $n = 1, B_{m,n}$ becomes a star graph, meaning the properties of the eigenvalues of a star graph are at least a subset of the properties of a complete bipartite graph.\n",
    "\n",
    "**4. What is the largest eigenvalue of the path graph P5? As the length of the path increases, what can you say about the changes in the largest eigenvalue?**\n",
    "\n",
    "The largest eigenvalue of $P_5$ is approximately $1.73$. For variable path lengths,\n",
    "\n",
    "$$\n",
    "\\lim_{n \\to \\infty} P_{n}: \\; \\lambda_{1} = 2\n",
    "$$\n",
    "\n",
    "**5. How does the largest eigenvalue of the path P5 (or its more generalization to an arbitrary length) compare with the largest eigenvalues of the star graph or the complete graph? If you are asked to sort the largest eigenvalue of the path, the star, and the clique) in the increasing order, what kind of relationship would you assign (E.g., $\\lambda_{path} \\lt or \\gt \\lambda_{star}$)?**\n",
    "\n",
    "For any $P_{n}$ path graph, $\\lambda_{i}$ has a constant upper bound of 2, however, for any $S_{n}$ and $K_{n}$, $\\lambda_{1}$ has variable upper bounds. Similar to Big-O analysis, the $\\lambda_{1}$ for the three graph types can be sorted when $n$ is sufficiently large. \n",
    "\n",
    "$$\n",
    "\\begin{align}\n",
    "    K_{n}:\\; & \\lambda_{1} = n - 1 \\\\\n",
    "    P_{n}:\\; & \\lambda_{1} = 2 \\mbox{ for sufficiently large } n \\\\\n",
    "    S_{n}:\\; & \\lambda_{1} = \\sqrt{n - 1} \\\\\n",
    "\\end{align}\n",
    "$$\n",
    "\n",
    "\n",
    "$$\n",
    "2 \\lt \\sqrt{n - 1} \\lt n - 1  \\Rightarrow \\lambda_{path} \\lt \\lambda_{star} \\lt \\lambda_{complete} \\mbox{ for sufficiently large } n\n",
    "$$\n"
   ]
  },
  {
   "cell_type": "markdown",
   "metadata": {},
   "source": [
    "### Exercise 5\n",
    "Generating the graph spectrum, or the multiset of the eigenvalues of the graph Laplacian. Write a script that calculates the eigenvalues of the graph Laplacian for each of the graphs in Exercise 1. Plot the eigenvalues in the increasing order of their values. "
   ]
  },
  {
   "cell_type": "code",
   "execution_count": 184,
   "metadata": {
    "collapsed": false
   },
   "outputs": [
    {
     "data": {
      "image/png": "[encoded data removed]",
      "text/plain": [
       "<matplotlib.figure.Figure at 0x7fd600c90050>"
      ]
     },
     "metadata": {},
     "output_type": "display_data"
    },
    {
     "name": "stdout",
     "output_type": "stream",
     "text": [
      "[-6.6613381477509392e-16, 4.9999999999999956, 5.0, 5.0, 5.0]\n"
     ]
    },
    {
     "data": {
      "image/png": "[encoded data removed]",
      "text/plain": [
       "<matplotlib.figure.Figure at 0x7fd600dd3c90>"
      ]
     },
     "metadata": {},
     "output_type": "display_data"
    },
    {
     "name": "stdout",
     "output_type": "stream",
     "text": [
      "[-6.6613381477509392e-16, -1.1102230246251565e-16, 3.0, 3.0, 4.9999999999999956, 5.0, 5.0, 5.0]\n"
     ]
    },
    {
     "data": {
      "image/png": "[encoded data removed]",
      "text/plain": [
       "<matplotlib.figure.Figure at 0x7fd60117e190>"
      ]
     },
     "metadata": {},
     "output_type": "display_data"
    },
    {
     "name": "stdout",
     "output_type": "stream",
     "text": [
      "[-4.3715031594615539e-16, 0.37380193147270591, 2.9999999999999991, 3.484861952871928, 4.9999999999999964, 4.9999999999999991, 4.9999999999999991, 6.1413361156553643]\n"
     ]
    },
    {
     "data": {
      "image/png": "[encoded data removed]",
      "text/plain": [
       "<matplotlib.figure.Figure at 0x7fd6013535d0>"
      ]
     },
     "metadata": {},
     "output_type": "display_data"
    },
    {
     "name": "stdout",
     "output_type": "stream",
     "text": [
      "[-8.3266726846886741e-16, 1.9999999999999987, 1.9999999999999998, 2.9999999999999996, 5.0000000000000009]\n"
     ]
    },
    {
     "data": {
      "image/png": "[encoded data removed]",
      "text/plain": [
       "<matplotlib.figure.Figure at 0x7fd601143c10>"
      ]
     },
     "metadata": {},
     "output_type": "display_data"
    },
    {
     "name": "stdout",
     "output_type": "stream",
     "text": [
      "[-5.6898930012039273e-16, 1.0, 1.0, 1.0, 1.0, 6.0]\n"
     ]
    },
    {
     "data": {
      "image/png": "[encoded data removed]",
      "text/plain": [
       "<matplotlib.figure.Figure at 0x7fd60120f050>"
      ]
     },
     "metadata": {},
     "output_type": "display_data"
    },
    {
     "name": "stdout",
     "output_type": "stream",
     "text": [
      "[4.9969247923019599e-17, 0.38196601125010521, 1.3819660112501049, 2.6180339887498953, 3.6180339887498945]\n"
     ]
    }
   ],
   "source": [
    "def laplacian_eigenvalues(G):\n",
    "    return nx.laplacian_spectrum(G)\n",
    "\n",
    "def plot_la_eign(G):\n",
    "    plt.plot(sorted(laplacian_eigenvalues(G)))\n",
    "    plt.ylabel('Eigenvalues')\n",
    "    plt.show()\n",
    "\n",
    "for G in [g1, g2, g3, g4, g5, g6]:\n",
    "    plot_la_eign(G)\n",
    "    print sorted(laplacian_eigenvalues(G))\n"
   ]
  },
  {
   "cell_type": "markdown",
   "metadata": {},
   "source": [
    "Answer the following questions:\n",
    "1. What can you say about the largest and the smallest eigenvalues?\n",
    "2. What is the multiplicity (how many times the same eigenvalue appears) of the zero eigenvalue for each of the cases?\n",
    "3. If K53 graph would be generalized to include c>2 components, what can you say about the multiplicity of the zero eigenvalues?\n",
    "4. If graph G is connected (i.e., the number of disconnected components is one), what can you say about the multiplicity of the zero eigenvalue?\n",
    "5. For the bi-partite graph, what is the value of the second smallest eigenvalue?\n",
    "6. Is the vector, whose components consist of 1's only, the eigenvector of the Laplacian? If it is, then what is its corresponding eigenvalue?\n",
    "7. Suppose the graph Laplacian matrix has the zero eigenvalue of multiplicity k. Can you say anything about the structure of such a graph?\n"
   ]
  },
  {
   "cell_type": "markdown",
   "metadata": {},
   "source": [
    "**1. What can you say about the largest and the smallest eigenvalues?**\n",
    "\n",
    "$$\n",
    "\\begin{align}\n",
    "    L(K_{5}),\\; \\lambda_{1} &    = 5 \\\\\n",
    "    L(K_{5.3}),\\; \\lambda_{1} &  = 5 \\\\\n",
    "    L(K_{5.3e}),\\; \\lambda_{1} & \\approx 6.14 \\\\\n",
    "    L(B_{2.3}),\\; \\lambda_{1} &  = 5 \\\\\n",
    "    L(S_{5}),\\; \\lambda_{1} &    = 6 \\\\\n",
    "    L(P_{5}),\\; \\lambda_{1} &    \\approx 3.62\n",
    "\\end{align}\n",
    "$$\n",
    "\n",
    "For all the above graphs, $L(G), \\lambda_{n} = 0$. A property of graphs is any graph, $G$, has $k$ connected components if and only if the graph laplacian matrix for $G$, or $L(G)$ has $\\lambda = 0$ with multiplicity $k$. Any graph is guaranteed to have at least one connected component. For example, the simplest case of a graph with one node; this graph will have a connected component of 1 node. As such, all graphs should have $\\lambda_{n} = 0$.\n",
    "\n",
    "**2. What is the multiplicity (how many times the same eigenvalue appears) of the zero eigenvalue for each of the cases?**\n",
    "\n",
    "$$\n",
    "\\begin{align}\n",
    "    L(K_{5}),\\; multiplicity(\\lambda_{i} = 0) &    = 1 \\\\\n",
    "    L(K_{5.3}),\\; multiplicity(\\lambda_{i} = 0) &  = 2 \\\\\n",
    "    L(K_{5.3e}),\\; multiplicity(\\lambda_{i} = 0) & = 1 \\\\\n",
    "    L(B_{2.3}),\\; multiplicity(\\lambda_{i} = 0) &  = 1 \\\\\n",
    "    L(S_{5}),\\; multiplicity(\\lambda_{i} = 0) &    = 1 \\\\\n",
    "    L(P_{5}),\\; multiplicity(\\lambda_{i} = 0) &    = 1\n",
    "\\end{align}\n",
    "$$\n",
    "\n",
    "**3. If K53 graph would be generalized to include c>2 components, what can you say about the multiplicity of the zero eigenvalues?**\n",
    "\n",
    "Due to the aforementioned property in 5.1, if the individual components are connected internally but not connected externally, then $multiplicity(K) = c$. \n",
    "\n",
    "**4. If graph G is connected (i.e., the number of disconnected components is one), what can you say about the multiplicity of the zero eigenvalue?**\n",
    "\n",
    "$L(G), \\; multiplicity(\\lambda_{i} = 0) = 1$\n",
    "\n",
    "**5. For the bi-partite graph, what is the value of the second smallest eigenvalue?**\n",
    "\n",
    "For any bipartite connected graph, $L(G), \\lambda_{n-1} = 0$.\n",
    "\n",
    "**6. Is the vector, whose components consist of 1's only, the eigenvector of the Laplacian? If it is, then what is its corresponding eigenvalue?**\n",
    "\n",
    "Yes, but only when $\\lambda_{i} = 0$. \n",
    "\n",
    "**7. Suppose the graph Laplacian matrix has the zero eigenvalue of multiplicity k. Can you say anything about the structure of such a graph?**\n",
    "\n",
    "The graph in question will have $K$ connected components. "
   ]
  }
 ],
 "metadata": {
  "kernelspec": {
   "display_name": "Python 2",
   "language": "python",
   "name": "python2"
  },
  "language_info": {
   "codemirror_mode": {
    "name": "ipython",
    "version": 2
   },
   "file_extension": ".py",
   "mimetype": "text/x-python",
   "name": "python",
   "nbconvert_exporter": "python",
   "pygments_lexer": "ipython2",
   "version": "2.7.12"
  }
 },
 "nbformat": 4,
 "nbformat_minor": 0
}
